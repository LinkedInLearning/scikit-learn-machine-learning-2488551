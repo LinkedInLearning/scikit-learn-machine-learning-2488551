{
 "cells": [
  {
   "cell_type": "code",
   "execution_count": 15,
   "metadata": {
    "scrolled": false
   },
   "outputs": [],
   "source": [
    "%matplotlib inline\n",
    "import pandas as pd\n",
    "from sklearn.preprocessing import StandardScaler\n",
    "import numpy as np\n",
    "from matplotlib import pyplot as plt\n",
    "from sklearn.decomposition import PCA\n",
    "\n",
    "data = pd.read_csv(\"Data/notes_étudiants.csv\", sep=',', index_col='id' )\n",
    "n = data.shape[0]\n",
    "p = data.shape[1]\n"
   ]
  },
  {
   "cell_type": "markdown",
   "metadata": {},
   "source": [
    "# Application de l'ACP"
   ]
  },
  {
   "cell_type": "code",
   "execution_count": 16,
   "metadata": {
    "scrolled": true
   },
   "outputs": [],
   "source": [
    "s_scaler = StandardScaler()\n",
    "scaled_data = s_scaler.fit_transform(data)\n"
   ]
  },
  {
   "cell_type": "code",
   "execution_count": 17,
   "metadata": {
    "scrolled": true
   },
   "outputs": [
    {
     "name": "stdout",
     "output_type": "stream",
     "text": [
      "[ 1.31208176e-16  4.37360585e-17 -1.07657990e-16  9.08364293e-17\n",
      " -1.95130107e-16 -1.48029737e-16 -9.42007415e-17  1.61486985e-16\n",
      " -1.68215610e-16  8.99953512e-17]\n"
     ]
    }
   ],
   "source": [
    "print(np.mean(scaled_data,axis=0))"
   ]
  },
  {
   "cell_type": "code",
   "execution_count": 18,
   "metadata": {
    "scrolled": true
   },
   "outputs": [
    {
     "name": "stdout",
     "output_type": "stream",
     "text": [
      "[1. 1. 1. 1. 1. 1. 1. 1. 1. 1.]\n"
     ]
    }
   ],
   "source": [
    "print(np.std(scaled_data,axis=0,ddof=0))"
   ]
  },
  {
   "cell_type": "code",
   "execution_count": 19,
   "metadata": {
    "scrolled": true
   },
   "outputs": [],
   "source": [
    "pca = PCA()\n",
    "coords = pca.fit_transform(scaled_data)"
   ]
  },
  {
   "cell_type": "code",
   "execution_count": null,
   "metadata": {
    "scrolled": true
   },
   "outputs": [],
   "source": []
  },
  {
   "cell_type": "code",
   "execution_count": null,
   "metadata": {
    "scrolled": true
   },
   "outputs": [],
   "source": []
  },
  {
   "cell_type": "code",
   "execution_count": 20,
   "metadata": {
    "scrolled": true
   },
   "outputs": [
    {
     "name": "stdout",
     "output_type": "stream",
     "text": [
      "[3.98951516 2.92685816 1.68480992 0.95143398 0.15181819 0.09921712\n",
      " 0.07789282 0.06330248 0.03001295 0.02513922]\n"
     ]
    }
   ],
   "source": [
    "eigenvalues = (n-1)/n*pca.explained_variance_\n",
    "print(eigenvalues)"
   ]
  },
  {
   "cell_type": "markdown",
   "metadata": {},
   "source": [
    "# Interprétation des résultats sur les individus"
   ]
  },
  {
   "cell_type": "code",
   "execution_count": 21,
   "metadata": {},
   "outputs": [
    {
     "data": {
      "image/png": "[encoded data removed]",
      "text/plain": [
       "<Figure size 576x576 with 1 Axes>"
      ]
     },
     "metadata": {
      "needs_background": "light"
     },
     "output_type": "display_data"
    }
   ],
   "source": [
    "fig, axes = plt.subplots(figsize=(8,8))\n",
    "axes.set_xlim(-3,4)\n",
    "axes.set_ylim(-4,6)\n",
    "plt.plot([-3,4],[0,0],color='black',linewidth=1)\n",
    "plt.plot([0,0],[-4,6],color='black',linewidth=1)\n",
    "\n",
    "for i in range(n):\n",
    "    plt.annotate(data.index[i],(coords[i,0],coords[i,1]))"
   ]
  },
  {
   "cell_type": "markdown",
   "metadata": {},
   "source": [
    "# Etude des variables"
   ]
  },
  {
   "cell_type": "code",
   "execution_count": 22,
   "metadata": {
    "scrolled": true
   },
   "outputs": [],
   "source": [
    "sqrt_eigenvalues = np.sqrt(eigenvalues)\n",
    "corvar = np.zeros((p,p))\n",
    "for i in range(p):\n",
    "    corvar[:,i] = pca.components_[i,:] * sqrt_eigenvalues[i]"
   ]
  },
  {
   "cell_type": "code",
   "execution_count": 23,
   "metadata": {
    "scrolled": true
   },
   "outputs": [
    {
     "data": {
      "text/plain": [
       "array([[ 1.91638216e-01, -9.13990875e-01,  2.83831201e-01,\n",
       "         8.67707283e-03, -5.14170130e-02, -5.31540254e-02,\n",
       "        -1.96592911e-01, -9.47633510e-03, -3.39060248e-02,\n",
       "         4.36208723e-02],\n",
       "       [ 2.53726791e-01, -9.06290738e-01,  2.30384235e-01,\n",
       "        -9.20462180e-02, -4.30145248e-02, -1.53161835e-01,\n",
       "         1.53445769e-01, -3.10747890e-02,  5.32393658e-02,\n",
       "         7.47917715e-03],\n",
       "       [ 1.57962536e-01, -9.39140866e-01,  1.19398398e-01,\n",
       "        -1.22114368e-01,  9.60689103e-02,  2.19133779e-01,\n",
       "         5.37130849e-02,  5.02084420e-02, -2.03572072e-02,\n",
       "        -2.87250124e-02],\n",
       "       [-7.85477989e-01, -3.37559863e-01, -4.54167711e-01,\n",
       "        -2.68574965e-02, -1.80090837e-01,  6.21294427e-02,\n",
       "         1.35053018e-02, -1.56311843e-01, -2.65066915e-02,\n",
       "        -2.18372557e-02],\n",
       "       [-7.91712174e-01, -2.85526320e-01, -4.64489087e-01,\n",
       "         1.62702003e-01, -1.36507280e-01,  3.02614253e-04,\n",
       "         1.32845364e-02,  1.68359395e-01,  2.68839361e-02,\n",
       "         3.95734840e-02],\n",
       "       [-6.89146689e-01, -4.01412821e-01, -4.65375768e-01,\n",
       "         2.55190981e-01,  2.63737364e-01, -1.03077461e-01,\n",
       "        -2.04328518e-02, -1.43420828e-02, -1.89015904e-02,\n",
       "        -3.29350743e-02],\n",
       "       [ 8.75155400e-01, -3.81460377e-02, -4.42290957e-01,\n",
       "        -7.33360819e-02, -7.23061565e-02, -7.68053534e-02,\n",
       "         4.83761588e-02,  5.31019010e-02, -1.20478918e-01,\n",
       "        -2.90853425e-02],\n",
       "       [ 7.58663050e-01, -4.00747422e-02, -6.26079639e-01,\n",
       "         6.92620640e-02,  8.12055912e-02,  5.76042951e-02,\n",
       "         2.33092416e-02, -5.91855194e-02,  2.05617282e-02,\n",
       "         1.08026897e-01],\n",
       "       [ 8.45973016e-01, -1.63645341e-01, -4.74515224e-01,\n",
       "         8.07662786e-02, -5.28299537e-02,  6.92335503e-03,\n",
       "        -8.75987458e-02,  7.62872790e-03,  9.27783725e-02,\n",
       "        -8.17524848e-02],\n",
       "       [-2.96000968e-01,  4.10520570e-02, -2.92510113e-01,\n",
       "        -9.04964063e-01,  5.34520640e-02, -3.41062280e-02,\n",
       "        -3.84688944e-02,  1.90063354e-02,  1.69140880e-02,\n",
       "         5.33786988e-03]])"
      ]
     },
     "execution_count": 23,
     "metadata": {},
     "output_type": "execute_result"
    }
   ],
   "source": [
    "#LEs variables en ligne et les facteurs en colonne\n",
    "corvar"
   ]
  },
  {
   "cell_type": "code",
   "execution_count": 24,
   "metadata": {
    "scrolled": true
   },
   "outputs": [
    {
     "name": "stdout",
     "output_type": "stream",
     "text": [
      "                    id     COR_1     COR_2     COR_3\n",
      "0        Mathématiques  0.191638 -0.913991  0.283831\n",
      "1             Physique  0.253727 -0.906291  0.230384\n",
      "2  Sciences_Naturelles  0.157963 -0.939141  0.119398\n",
      "3             Histoire -0.785478 -0.337560 -0.454168\n",
      "4           Géographie -0.791712 -0.285526 -0.464489\n",
      "5          Philosophie -0.689147 -0.401413 -0.465376\n",
      "6             Français  0.875155 -0.038146 -0.442291\n",
      "7              Anglais  0.758663 -0.040075 -0.626080\n",
      "8             Allemand  0.845973 -0.163645 -0.474515\n",
      "9                Sport -0.296001  0.041052 -0.292510\n"
     ]
    }
   ],
   "source": [
    "print(pd.DataFrame({'id':data.columns,'COR_1':corvar[:,0],'COR_2':corvar[:,1], 'COR_3':corvar[:,2]}))"
   ]
  },
  {
   "cell_type": "code",
   "execution_count": 25,
   "metadata": {},
   "outputs": [
    {
     "name": "stdout",
     "output_type": "stream",
     "text": [
      "[-0.29600097  0.04105206 -0.29251011 -0.90496406  0.05345206 -0.03410623\n",
      " -0.03846889  0.01900634  0.01691409  0.00533787]\n"
     ]
    }
   ],
   "source": [
    " print(corvar[9,:])"
   ]
  },
  {
   "cell_type": "code",
   "execution_count": 26,
   "metadata": {
    "scrolled": false
   },
   "outputs": [
    {
     "data": {
      "text/plain": [
       "Text(0.5, 1.0, 'Cercle des corrélations')"
      ]
     },
     "execution_count": 26,
     "metadata": {},
     "output_type": "execute_result"
    },
    {
     "data": {
      "image/png": "[encoded data removed]",
      "text/plain": [
       "<Figure size 576x576 with 1 Axes>"
      ]
     },
     "metadata": {
      "needs_background": "light"
     },
     "output_type": "display_data"
    }
   ],
   "source": [
    "fig, axes = plt.subplots(figsize=(8,8))\n",
    "axes.set_xlim(-1,1)\n",
    "axes.set_ylim(-1,1)\n",
    "for j in range(p):\n",
    "    plt.annotate(data.columns.get_loc(data.columns[j]),(corvar[j,0],corvar[j,1]))\n",
    "\n",
    "plt.plot([-1,1],[0,0],color='black',linewidth=1)\n",
    "plt.plot([0,0],[-1,1],color='black',linewidth=1)\n",
    "\n",
    "circle = plt.Circle((0,0),1,color='blue',fill=False) \n",
    "axes.add_artist(circle)\n",
    "plt.title(\"Cercle des corrélations\") "
   ]
  },
  {
   "cell_type": "code",
   "execution_count": 27,
   "metadata": {},
   "outputs": [
    {
     "name": "stdout",
     "output_type": "stream",
     "text": [
      "                    id    COS2_1    COS2_2    COS2_3    COS2_4\n",
      "0        Mathématiques  0.036725  0.835379  0.080560  0.000075\n",
      "1             Physique  0.064377  0.821363  0.053077  0.008473\n",
      "2  Sciences_Naturelles  0.024952  0.881986  0.014256  0.014912\n",
      "3             Histoire  0.616976  0.113947  0.206268  0.000721\n",
      "4           Géographie  0.626808  0.081525  0.215750  0.026472\n",
      "5          Philosophie  0.474923  0.161132  0.216575  0.065122\n",
      "6             Français  0.765897  0.001455  0.195621  0.005378\n",
      "7              Anglais  0.575570  0.001606  0.391976  0.004797\n",
      "8             Allemand  0.715670  0.026780  0.225165  0.006523\n",
      "9                Sport  0.087617  0.001685  0.085562  0.818960\n"
     ]
    }
   ],
   "source": [
    "cos2_var = corvar**2\n",
    "print(pd.DataFrame({'id':data.columns,'COS2_1':cos2_var[:,0],'COS2_2':cos2_var[:,1], 'COS2_3':cos2_var[:,2], 'COS2_4':cos2_var[:,3]}))"
   ]
  },
  {
   "cell_type": "code",
   "execution_count": 28,
   "metadata": {
    "scrolled": true
   },
   "outputs": [
    {
     "name": "stdout",
     "output_type": "stream",
     "text": [
      "                    id     CTR_1     CTR_2     CTR_3     CTR_4\n",
      "0        Mathématiques  0.009205  0.285418  0.047816  0.000079\n",
      "1             Physique  0.016137  0.280630  0.031503  0.008905\n",
      "2  Sciences_Naturelles  0.006254  0.301342  0.008461  0.015673\n",
      "3             Histoire  0.154649  0.038931  0.122428  0.000758\n",
      "4           Géographie  0.157114  0.027854  0.128056  0.027823\n",
      "5          Philosophie  0.119043  0.055053  0.128545  0.068447\n",
      "6             Français  0.191977  0.000497  0.116109  0.005653\n",
      "7              Anglais  0.144271  0.000549  0.232653  0.005042\n",
      "8             Allemand  0.179388  0.009150  0.133644  0.006856\n",
      "9                Sport  0.021962  0.000576  0.050784  0.860764\n"
     ]
    }
   ],
   "source": [
    "ctrvar = cos2_var\n",
    "for i in range(p):\n",
    "    ctrvar[:,i] = ctrvar[:,i]/eigenvalues[i]\n",
    "print(pd.DataFrame({'id':data.columns,'CTR_1':ctrvar[:,0],'CTR_2':ctrvar[:,1],'CTR_3':ctrvar[:,2], 'CTR_4':ctrvar[:,3]}))"
   ]
  },
  {
   "cell_type": "code",
   "execution_count": null,
   "metadata": {
    "scrolled": true
   },
   "outputs": [],
   "source": []
  },
  {
   "cell_type": "code",
   "execution_count": null,
   "metadata": {},
   "outputs": [],
   "source": []
  },
  {
   "cell_type": "code",
   "execution_count": null,
   "metadata": {},
   "outputs": [],
   "source": []
  }
 ],
 "metadata": {
  "kernelspec": {
   "display_name": "Python 3 (ipykernel)",
   "language": "python",
   "name": "python3"
  },
  "language_info": {
   "codemirror_mode": {
    "name": "ipython",
    "version": 3
   },
   "file_extension": ".py",
   "mimetype": "text/x-python",
   "name": "python",
   "nbconvert_exporter": "python",
   "pygments_lexer": "ipython3",
   "version": "3.9.7"
  }
 },
 "nbformat": 4,
 "nbformat_minor": 4
}
