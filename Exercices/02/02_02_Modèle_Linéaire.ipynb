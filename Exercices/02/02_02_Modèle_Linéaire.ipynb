{
 "cells": [
  {
   "cell_type": "code",
   "execution_count": 1,
   "metadata": {},
   "outputs": [],
   "source": [
    "import pandas as pd \n",
    "from math import sqrt\n",
    "import matplotlib.pyplot as plt \n",
    "from sklearn.model_selection import train_test_split\n",
    "from sklearn.linear_model import LinearRegression\n",
    "from sklearn.metrics import mean_squared_error, r2_score\n",
    "from sklearn import preprocessing\n",
    "import numpy as np\n"
   ]
  },
  {
   "cell_type": "markdown",
   "metadata": {},
   "source": [
    "# Chargement des données"
   ]
  },
  {
   "cell_type": "code",
   "execution_count": 2,
   "metadata": {},
   "outputs": [],
   "source": [
    "data = pd.read_csv('Data/ozone.csv', sep=',')"
   ]
  },
  {
   "cell_type": "code",
   "execution_count": 3,
   "metadata": {},
   "outputs": [],
   "source": [
    "y = data[\"MaxO3\"]"
   ]
  },
  {
   "cell_type": "code",
   "execution_count": null,
   "metadata": {},
   "outputs": [],
   "source": []
  },
  {
   "cell_type": "code",
   "execution_count": 4,
   "metadata": {},
   "outputs": [],
   "source": [
    "data= data[\n",
    "           ['T9', 'T12', 'T15', 'Ne9', 'Ne12', 'Ne15', 'Vx9',\n",
    "            'Vx12', 'Vx15', 'MaxO3v']\n",
    "]\n"
   ]
  },
  {
   "cell_type": "code",
   "execution_count": null,
   "metadata": {},
   "outputs": [],
   "source": [
    "data"
   ]
  },
  {
   "cell_type": "code",
   "execution_count": null,
   "metadata": {
    "scrolled": false
   },
   "outputs": [],
   "source": [
    "data.describe()"
   ]
  },
  {
   "cell_type": "markdown",
   "metadata": {},
   "source": [
    "# Préparation des données"
   ]
  },
  {
   "cell_type": "code",
   "execution_count": 5,
   "metadata": {},
   "outputs": [],
   "source": [
    "def normalization(dataToNormalize):\n",
    "    columns = dataToNormalize.columns\n",
    "    for col in columns:\n",
    "        x = dataToNormalize[[col]].values.astype(float)\n",
    "        standard_normalization = preprocessing.StandardScaler()\n",
    "        res = standard_normalization.fit_transform(x)\n",
    "        dataToNormalize[col]=res\n",
    "        \n",
    "normalization(data)"
   ]
  },
  {
   "cell_type": "code",
   "execution_count": 6,
   "metadata": {
    "scrolled": true
   },
   "outputs": [
    {
     "data": {
      "text/html": [
       "<div>\n",
       "<style scoped>\n",
       "    .dataframe tbody tr th:only-of-type {\n",
       "        vertical-align: middle;\n",
       "    }\n",
       "\n",
       "    .dataframe tbody tr th {\n",
       "        vertical-align: top;\n",
       "    }\n",
       "\n",
       "    .dataframe thead th {\n",
       "        text-align: right;\n",
       "    }\n",
       "</style>\n",
       "<table border=\"1\" class=\"dataframe\">\n",
       "  <thead>\n",
       "    <tr style=\"text-align: right;\">\n",
       "      <th></th>\n",
       "      <th>T9</th>\n",
       "      <th>T12</th>\n",
       "      <th>T15</th>\n",
       "      <th>Ne9</th>\n",
       "      <th>Ne12</th>\n",
       "      <th>Ne15</th>\n",
       "      <th>Vx9</th>\n",
       "      <th>Vx12</th>\n",
       "      <th>Vx15</th>\n",
       "      <th>MaxO3v</th>\n",
       "    </tr>\n",
       "  </thead>\n",
       "  <tbody>\n",
       "    <tr>\n",
       "      <th>0</th>\n",
       "      <td>-0.888045</td>\n",
       "      <td>-0.752140</td>\n",
       "      <td>-0.937279</td>\n",
       "      <td>-0.359451</td>\n",
       "      <td>-0.448069</td>\n",
       "      <td>1.365152</td>\n",
       "      <td>0.728338</td>\n",
       "      <td>-0.035606</td>\n",
       "      <td>0.356046</td>\n",
       "      <td>-0.233441</td>\n",
       "    </tr>\n",
       "    <tr>\n",
       "      <th>1</th>\n",
       "      <td>-0.437704</td>\n",
       "      <td>-0.776989</td>\n",
       "      <td>-1.092469</td>\n",
       "      <td>0.027650</td>\n",
       "      <td>-0.007861</td>\n",
       "      <td>0.934456</td>\n",
       "      <td>-1.188782</td>\n",
       "      <td>-0.858374</td>\n",
       "      <td>-0.468010</td>\n",
       "      <td>-0.126870</td>\n",
       "    </tr>\n",
       "    <tr>\n",
       "      <th>2</th>\n",
       "      <td>-0.984547</td>\n",
       "      <td>-0.975785</td>\n",
       "      <td>-0.693408</td>\n",
       "      <td>-1.133653</td>\n",
       "      <td>-0.007861</td>\n",
       "      <td>-0.357631</td>\n",
       "      <td>1.590540</td>\n",
       "      <td>1.254113</td>\n",
       "      <td>0.790522</td>\n",
       "      <td>-0.304488</td>\n",
       "    </tr>\n",
       "    <tr>\n",
       "      <th>3</th>\n",
       "      <td>-0.695042</td>\n",
       "      <td>-0.453946</td>\n",
       "      <td>-0.028306</td>\n",
       "      <td>-1.520753</td>\n",
       "      <td>-1.768695</td>\n",
       "      <td>-2.080415</td>\n",
       "      <td>0.839060</td>\n",
       "      <td>0.703625</td>\n",
       "      <td>0.542276</td>\n",
       "      <td>0.050748</td>\n",
       "    </tr>\n",
       "    <tr>\n",
       "      <th>4</th>\n",
       "      <td>-0.309035</td>\n",
       "      <td>-0.255151</td>\n",
       "      <td>-0.493878</td>\n",
       "      <td>1.188953</td>\n",
       "      <td>1.312765</td>\n",
       "      <td>0.934456</td>\n",
       "      <td>0.272551</td>\n",
       "      <td>-0.482687</td>\n",
       "      <td>-0.943449</td>\n",
       "      <td>0.832266</td>\n",
       "    </tr>\n",
       "    <tr>\n",
       "      <th>...</th>\n",
       "      <td>...</td>\n",
       "      <td>...</td>\n",
       "      <td>...</td>\n",
       "      <td>...</td>\n",
       "      <td>...</td>\n",
       "      <td>...</td>\n",
       "      <td>...</td>\n",
       "      <td>...</td>\n",
       "      <td>...</td>\n",
       "      <td>...</td>\n",
       "    </tr>\n",
       "    <tr>\n",
       "      <th>107</th>\n",
       "      <td>-1.627892</td>\n",
       "      <td>-0.950935</td>\n",
       "      <td>-1.070299</td>\n",
       "      <td>-0.746552</td>\n",
       "      <td>-0.007861</td>\n",
       "      <td>0.503760</td>\n",
       "      <td>0.463320</td>\n",
       "      <td>0.219536</td>\n",
       "      <td>0.144795</td>\n",
       "      <td>-0.517629</td>\n",
       "    </tr>\n",
       "    <tr>\n",
       "      <th>108</th>\n",
       "      <td>-0.695042</td>\n",
       "      <td>-0.180602</td>\n",
       "      <td>-0.116987</td>\n",
       "      <td>0.414751</td>\n",
       "      <td>-0.007861</td>\n",
       "      <td>0.073064</td>\n",
       "      <td>0.198303</td>\n",
       "      <td>-0.139768</td>\n",
       "      <td>0.115306</td>\n",
       "      <td>-0.695247</td>\n",
       "    </tr>\n",
       "    <tr>\n",
       "      <th>109</th>\n",
       "      <td>-0.469871</td>\n",
       "      <td>0.366086</td>\n",
       "      <td>-0.006136</td>\n",
       "      <td>0.414751</td>\n",
       "      <td>-0.448069</td>\n",
       "      <td>0.934456</td>\n",
       "      <td>1.035629</td>\n",
       "      <td>0.890786</td>\n",
       "      <td>0.914663</td>\n",
       "      <td>-0.482105</td>\n",
       "    </tr>\n",
       "    <tr>\n",
       "      <th>110</th>\n",
       "      <td>-0.469871</td>\n",
       "      <td>-0.429097</td>\n",
       "      <td>-0.116987</td>\n",
       "      <td>0.414751</td>\n",
       "      <td>-0.007861</td>\n",
       "      <td>-0.788327</td>\n",
       "      <td>-1.062836</td>\n",
       "      <td>-0.771710</td>\n",
       "      <td>-0.825457</td>\n",
       "      <td>0.299413</td>\n",
       "    </tr>\n",
       "    <tr>\n",
       "      <th>111</th>\n",
       "      <td>-0.855878</td>\n",
       "      <td>-0.727290</td>\n",
       "      <td>-0.427368</td>\n",
       "      <td>0.801852</td>\n",
       "      <td>0.872556</td>\n",
       "      <td>0.934456</td>\n",
       "      <td>0.463320</td>\n",
       "      <td>0.204481</td>\n",
       "      <td>-0.825457</td>\n",
       "      <td>-0.268964</td>\n",
       "    </tr>\n",
       "  </tbody>\n",
       "</table>\n",
       "<p>112 rows × 10 columns</p>\n",
       "</div>"
      ],
      "text/plain": [
       "           T9       T12       T15       Ne9      Ne12      Ne15       Vx9  \\\n",
       "0   -0.888045 -0.752140 -0.937279 -0.359451 -0.448069  1.365152  0.728338   \n",
       "1   -0.437704 -0.776989 -1.092469  0.027650 -0.007861  0.934456 -1.188782   \n",
       "2   -0.984547 -0.975785 -0.693408 -1.133653 -0.007861 -0.357631  1.590540   \n",
       "3   -0.695042 -0.453946 -0.028306 -1.520753 -1.768695 -2.080415  0.839060   \n",
       "4   -0.309035 -0.255151 -0.493878  1.188953  1.312765  0.934456  0.272551   \n",
       "..        ...       ...       ...       ...       ...       ...       ...   \n",
       "107 -1.627892 -0.950935 -1.070299 -0.746552 -0.007861  0.503760  0.463320   \n",
       "108 -0.695042 -0.180602 -0.116987  0.414751 -0.007861  0.073064  0.198303   \n",
       "109 -0.469871  0.366086 -0.006136  0.414751 -0.448069  0.934456  1.035629   \n",
       "110 -0.469871 -0.429097 -0.116987  0.414751 -0.007861 -0.788327 -1.062836   \n",
       "111 -0.855878 -0.727290 -0.427368  0.801852  0.872556  0.934456  0.463320   \n",
       "\n",
       "         Vx12      Vx15    MaxO3v  \n",
       "0   -0.035606  0.356046 -0.233441  \n",
       "1   -0.858374 -0.468010 -0.126870  \n",
       "2    1.254113  0.790522 -0.304488  \n",
       "3    0.703625  0.542276  0.050748  \n",
       "4   -0.482687 -0.943449  0.832266  \n",
       "..        ...       ...       ...  \n",
       "107  0.219536  0.144795 -0.517629  \n",
       "108 -0.139768  0.115306 -0.695247  \n",
       "109  0.890786  0.914663 -0.482105  \n",
       "110 -0.771710 -0.825457  0.299413  \n",
       "111  0.204481 -0.825457 -0.268964  \n",
       "\n",
       "[112 rows x 10 columns]"
      ]
     },
     "execution_count": 6,
     "metadata": {},
     "output_type": "execute_result"
    }
   ],
   "source": [
    "data"
   ]
  },
  {
   "cell_type": "code",
   "execution_count": 7,
   "metadata": {},
   "outputs": [
    {
     "data": {
      "text/html": [
       "<div>\n",
       "<style scoped>\n",
       "    .dataframe tbody tr th:only-of-type {\n",
       "        vertical-align: middle;\n",
       "    }\n",
       "\n",
       "    .dataframe tbody tr th {\n",
       "        vertical-align: top;\n",
       "    }\n",
       "\n",
       "    .dataframe thead th {\n",
       "        text-align: right;\n",
       "    }\n",
       "</style>\n",
       "<table border=\"1\" class=\"dataframe\">\n",
       "  <thead>\n",
       "    <tr style=\"text-align: right;\">\n",
       "      <th></th>\n",
       "      <th>T9</th>\n",
       "      <th>T12</th>\n",
       "      <th>T15</th>\n",
       "      <th>Ne9</th>\n",
       "      <th>Ne12</th>\n",
       "      <th>Ne15</th>\n",
       "      <th>Vx9</th>\n",
       "      <th>Vx12</th>\n",
       "      <th>Vx15</th>\n",
       "      <th>MaxO3v</th>\n",
       "    </tr>\n",
       "  </thead>\n",
       "  <tbody>\n",
       "    <tr>\n",
       "      <th>count</th>\n",
       "      <td>1.120000e+02</td>\n",
       "      <td>1.120000e+02</td>\n",
       "      <td>1.120000e+02</td>\n",
       "      <td>1.120000e+02</td>\n",
       "      <td>1.120000e+02</td>\n",
       "      <td>1.120000e+02</td>\n",
       "      <td>1.120000e+02</td>\n",
       "      <td>1.120000e+02</td>\n",
       "      <td>1.120000e+02</td>\n",
       "      <td>1.120000e+02</td>\n",
       "    </tr>\n",
       "    <tr>\n",
       "      <th>mean</th>\n",
       "      <td>-6.215266e-16</td>\n",
       "      <td>-2.111406e-16</td>\n",
       "      <td>3.568574e-17</td>\n",
       "      <td>-1.040834e-16</td>\n",
       "      <td>-1.179612e-16</td>\n",
       "      <td>-1.675247e-16</td>\n",
       "      <td>3.419883e-17</td>\n",
       "      <td>1.239088e-17</td>\n",
       "      <td>-8.524927e-17</td>\n",
       "      <td>6.046750e-17</td>\n",
       "    </tr>\n",
       "    <tr>\n",
       "      <th>std</th>\n",
       "      <td>1.004494e+00</td>\n",
       "      <td>1.004494e+00</td>\n",
       "      <td>1.004494e+00</td>\n",
       "      <td>1.004494e+00</td>\n",
       "      <td>1.004494e+00</td>\n",
       "      <td>1.004494e+00</td>\n",
       "      <td>1.004494e+00</td>\n",
       "      <td>1.004494e+00</td>\n",
       "      <td>1.004494e+00</td>\n",
       "      <td>1.004494e+00</td>\n",
       "    </tr>\n",
       "    <tr>\n",
       "      <th>min</th>\n",
       "      <td>-2.271236e+00</td>\n",
       "      <td>-1.870365e+00</td>\n",
       "      <td>-1.713231e+00</td>\n",
       "      <td>-1.907854e+00</td>\n",
       "      <td>-2.208904e+00</td>\n",
       "      <td>-2.080415e+00</td>\n",
       "      <td>-2.542636e+00</td>\n",
       "      <td>-2.251932e+00</td>\n",
       "      <td>-2.612687e+00</td>\n",
       "      <td>-1.725430e+00</td>\n",
       "    </tr>\n",
       "    <tr>\n",
       "      <th>25%</th>\n",
       "      <td>-6.950420e-01</td>\n",
       "      <td>-7.272901e-01</td>\n",
       "      <td>-7.432910e-01</td>\n",
       "      <td>-7.465517e-01</td>\n",
       "      <td>-4.480695e-01</td>\n",
       "      <td>-7.883274e-01</td>\n",
       "      <td>-7.867737e-01</td>\n",
       "      <td>-7.019695e-01</td>\n",
       "      <td>-8.037238e-01</td>\n",
       "      <td>-6.952468e-01</td>\n",
       "    </tr>\n",
       "    <tr>\n",
       "      <th>50%</th>\n",
       "      <td>-1.803663e-01</td>\n",
       "      <td>-2.427259e-01</td>\n",
       "      <td>-1.280717e-01</td>\n",
       "      <td>4.147509e-01</td>\n",
       "      <td>-7.860868e-03</td>\n",
       "      <td>7.306449e-02</td>\n",
       "      <td>1.329075e-01</td>\n",
       "      <td>-9.643571e-02</td>\n",
       "      <td>5.041172e-02</td>\n",
       "      <td>-2.867259e-01</td>\n",
       "    </tr>\n",
       "    <tr>\n",
       "      <th>75%</th>\n",
       "      <td>5.031874e-01</td>\n",
       "      <td>5.027576e-01</td>\n",
       "      <td>6.146254e-01</td>\n",
       "      <td>8.018518e-01</td>\n",
       "      <td>8.725563e-01</td>\n",
       "      <td>9.344564e-01</td>\n",
       "      <td>7.283376e-01</td>\n",
       "      <td>5.788388e-01</td>\n",
       "      <td>6.043282e-01</td>\n",
       "      <td>5.480777e-01</td>\n",
       "    </tr>\n",
       "    <tr>\n",
       "      <th>max</th>\n",
       "      <td>2.779019e+00</td>\n",
       "      <td>2.975278e+00</td>\n",
       "      <td>2.853802e+00</td>\n",
       "      <td>1.188953e+00</td>\n",
       "      <td>1.312765e+00</td>\n",
       "      <td>1.365152e+00</td>\n",
       "      <td>2.445874e+00</td>\n",
       "      <td>2.942264e+00</td>\n",
       "      <td>2.391559e+00</td>\n",
       "      <td>2.679491e+00</td>\n",
       "    </tr>\n",
       "  </tbody>\n",
       "</table>\n",
       "</div>"
      ],
      "text/plain": [
       "                 T9           T12           T15           Ne9          Ne12  \\\n",
       "count  1.120000e+02  1.120000e+02  1.120000e+02  1.120000e+02  1.120000e+02   \n",
       "mean  -6.215266e-16 -2.111406e-16  3.568574e-17 -1.040834e-16 -1.179612e-16   \n",
       "std    1.004494e+00  1.004494e+00  1.004494e+00  1.004494e+00  1.004494e+00   \n",
       "min   -2.271236e+00 -1.870365e+00 -1.713231e+00 -1.907854e+00 -2.208904e+00   \n",
       "25%   -6.950420e-01 -7.272901e-01 -7.432910e-01 -7.465517e-01 -4.480695e-01   \n",
       "50%   -1.803663e-01 -2.427259e-01 -1.280717e-01  4.147509e-01 -7.860868e-03   \n",
       "75%    5.031874e-01  5.027576e-01  6.146254e-01  8.018518e-01  8.725563e-01   \n",
       "max    2.779019e+00  2.975278e+00  2.853802e+00  1.188953e+00  1.312765e+00   \n",
       "\n",
       "               Ne15           Vx9          Vx12          Vx15        MaxO3v  \n",
       "count  1.120000e+02  1.120000e+02  1.120000e+02  1.120000e+02  1.120000e+02  \n",
       "mean  -1.675247e-16  3.419883e-17  1.239088e-17 -8.524927e-17  6.046750e-17  \n",
       "std    1.004494e+00  1.004494e+00  1.004494e+00  1.004494e+00  1.004494e+00  \n",
       "min   -2.080415e+00 -2.542636e+00 -2.251932e+00 -2.612687e+00 -1.725430e+00  \n",
       "25%   -7.883274e-01 -7.867737e-01 -7.019695e-01 -8.037238e-01 -6.952468e-01  \n",
       "50%    7.306449e-02  1.329075e-01 -9.643571e-02  5.041172e-02 -2.867259e-01  \n",
       "75%    9.344564e-01  7.283376e-01  5.788388e-01  6.043282e-01  5.480777e-01  \n",
       "max    1.365152e+00  2.445874e+00  2.942264e+00  2.391559e+00  2.679491e+00  "
      ]
     },
     "execution_count": 7,
     "metadata": {},
     "output_type": "execute_result"
    }
   ],
   "source": [
    "data.describe()"
   ]
  },
  {
   "cell_type": "code",
   "execution_count": 9,
   "metadata": {},
   "outputs": [],
   "source": [
    "x_train, x_test, y_train, y_test = train_test_split(data, y, test_size=0.2)\n",
    "\n"
   ]
  },
  {
   "cell_type": "markdown",
   "metadata": {},
   "source": [
    "# Entraîner un modèle de régression linéaire"
   ]
  },
  {
   "cell_type": "code",
   "execution_count": 10,
   "metadata": {},
   "outputs": [
    {
     "data": {
      "text/plain": [
       "LinearRegression()"
      ]
     },
     "execution_count": 10,
     "metadata": {},
     "output_type": "execute_result"
    }
   ],
   "source": [
    "regression_alg = LinearRegression()\n",
    "regression_alg.fit(x_train, y_train)"
   ]
  },
  {
   "cell_type": "code",
   "execution_count": 11,
   "metadata": {},
   "outputs": [
    {
     "name": "stdout",
     "output_type": "stream",
     "text": [
      "RMSE = 12.57\n",
      "R2_score = 0.78\n"
     ]
    }
   ],
   "source": [
    "train_predictions = regression_alg.predict(x_train)\n",
    "print(f\"RMSE = {round(sqrt(mean_squared_error(y_train, train_predictions)),2)}\")\n",
    "print(f\"R2_score = {round(r2_score(y_train, train_predictions),2)}\")"
   ]
  },
  {
   "cell_type": "code",
   "execution_count": null,
   "metadata": {},
   "outputs": [],
   "source": [
    "\n"
   ]
  },
  {
   "cell_type": "code",
   "execution_count": 12,
   "metadata": {},
   "outputs": [
    {
     "data": {
      "text/plain": [
       "array([ 3.97581254,  8.94611397, -3.38188199, -4.77437656, -0.2764102 ,\n",
       "       -1.66545034,  4.59507696,  0.48262469,  0.62025877,  9.57871391])"
      ]
     },
     "execution_count": 12,
     "metadata": {},
     "output_type": "execute_result"
    }
   ],
   "source": [
    "regression_alg.coef_"
   ]
  },
  {
   "cell_type": "code",
   "execution_count": 13,
   "metadata": {},
   "outputs": [
    {
     "data": {
      "text/plain": [
       "91.1287779041513"
      ]
     },
     "execution_count": 13,
     "metadata": {},
     "output_type": "execute_result"
    }
   ],
   "source": [
    "regression_alg.intercept_"
   ]
  },
  {
   "cell_type": "code",
   "execution_count": null,
   "metadata": {},
   "outputs": [],
   "source": []
  },
  {
   "cell_type": "code",
   "execution_count": null,
   "metadata": {},
   "outputs": [],
   "source": []
  },
  {
   "cell_type": "code",
   "execution_count": null,
   "metadata": {},
   "outputs": [],
   "source": []
  },
  {
   "cell_type": "code",
   "execution_count": null,
   "metadata": {},
   "outputs": [],
   "source": []
  },
  {
   "cell_type": "code",
   "execution_count": null,
   "metadata": {},
   "outputs": [],
   "source": []
  }
 ],
 "metadata": {
  "kernelspec": {
   "display_name": "Python 3 (ipykernel)",
   "language": "python",
   "name": "python3"
  },
  "language_info": {
   "codemirror_mode": {
    "name": "ipython",
    "version": 3
   },
   "file_extension": ".py",
   "mimetype": "text/x-python",
   "name": "python",
   "nbconvert_exporter": "python",
   "pygments_lexer": "ipython3",
   "version": "3.9.7"
  }
 },
 "nbformat": 4,
 "nbformat_minor": 4
}
