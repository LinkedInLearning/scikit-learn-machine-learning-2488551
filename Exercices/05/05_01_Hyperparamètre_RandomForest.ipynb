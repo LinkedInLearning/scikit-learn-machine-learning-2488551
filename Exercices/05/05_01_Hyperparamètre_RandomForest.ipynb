{
 "cells": [
  {
   "cell_type": "code",
   "execution_count": 1,
   "metadata": {},
   "outputs": [],
   "source": [
    "import pandas as pd\n",
    "import re\n",
    "import string\n",
    " \n",
    "\n",
    "data = pd.read_csv(\"Data/spambase.csv\", sep=',', header=None)\n"
   ]
  },
  {
   "cell_type": "code",
   "execution_count": 2,
   "metadata": {},
   "outputs": [],
   "source": [
    "from sklearn.ensemble import RandomForestClassifier\n",
    "from sklearn.metrics import precision_recall_fscore_support as score\n",
    "from sklearn.model_selection import train_test_split"
   ]
  },
  {
   "cell_type": "code",
   "execution_count": 3,
   "metadata": {},
   "outputs": [],
   "source": [
    "email_class = data[57]"
   ]
  },
  {
   "cell_type": "code",
   "execution_count": 4,
   "metadata": {},
   "outputs": [],
   "source": [
    "data.drop([57],axis = 1, inplace=True)"
   ]
  },
  {
   "cell_type": "code",
   "execution_count": 5,
   "metadata": {},
   "outputs": [],
   "source": [
    "x_train, x_test, y_train, y_test = train_test_split(data, email_class, test_size=0.25)"
   ]
  },
  {
   "cell_type": "code",
   "execution_count": 6,
   "metadata": {},
   "outputs": [],
   "source": [
    "def random_forest_hyper_params(n_decision_tree, depth):\n",
    "    alg_RandomForest = RandomForestClassifier(n_estimators=n_decision_tree, max_depth=depth, n_jobs=-1)\n",
    "    model = alg_RandomForest.fit(x_train, y_train)\n",
    "    predictions = model.predict(x_test)\n",
    "    precision, recall, fscore, support = score(y_test, predictions, pos_label=1, average='binary')\n",
    "    print('nb decision tree: {} / Depth: {} | Precision: {} / Recall: {}'.format(\n",
    "        n_decision_tree, depth, round(precision, 3), round(recall, 3)))"
   ]
  },
  {
   "cell_type": "code",
   "execution_count": 7,
   "metadata": {},
   "outputs": [
    {
     "name": "stdout",
     "output_type": "stream",
     "text": [
      "nb decision tree: 5 / Depth: 10 | Precision: 0.94 / Recall: 0.864\n",
      "nb decision tree: 5 / Depth: 20 | Precision: 0.913 / Recall: 0.907\n",
      "nb decision tree: 5 / Depth: 30 | Precision: 0.898 / Recall: 0.916\n",
      "nb decision tree: 20 / Depth: 10 | Precision: 0.928 / Recall: 0.891\n",
      "nb decision tree: 20 / Depth: 20 | Precision: 0.928 / Recall: 0.922\n",
      "nb decision tree: 20 / Depth: 30 | Precision: 0.94 / Recall: 0.911\n",
      "nb decision tree: 50 / Depth: 10 | Precision: 0.929 / Recall: 0.898\n",
      "nb decision tree: 50 / Depth: 20 | Precision: 0.939 / Recall: 0.918\n",
      "nb decision tree: 50 / Depth: 30 | Precision: 0.928 / Recall: 0.913\n",
      "nb decision tree: 100 / Depth: 10 | Precision: 0.924 / Recall: 0.889\n",
      "nb decision tree: 100 / Depth: 20 | Precision: 0.934 / Recall: 0.916\n",
      "nb decision tree: 100 / Depth: 30 | Precision: 0.936 / Recall: 0.907\n"
     ]
    }
   ],
   "source": [
    "for ith_decision_tree in [5, 20, 50,100]:\n",
    "    for depth in [10, 20, 30]:\n",
    "        random_forest_hyper_params(ith_decision_tree, depth)"
   ]
  },
  {
   "cell_type": "code",
   "execution_count": null,
   "metadata": {},
   "outputs": [],
   "source": []
  }
 ],
 "metadata": {
  "kernelspec": {
   "display_name": "Python 3 (ipykernel)",
   "language": "python",
   "name": "python3"
  },
  "language_info": {
   "codemirror_mode": {
    "name": "ipython",
    "version": 3
   },
   "file_extension": ".py",
   "mimetype": "text/x-python",
   "name": "python",
   "nbconvert_exporter": "python",
   "pygments_lexer": "ipython3",
   "version": "3.9.7"
  }
 },
 "nbformat": 4,
 "nbformat_minor": 4
}
